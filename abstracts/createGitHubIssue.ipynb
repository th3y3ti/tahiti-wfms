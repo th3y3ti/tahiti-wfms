{
 "cells": [
  {
   "cell_type": "code",
   "execution_count": 11,
   "metadata": {},
   "outputs": [
    {
     "name": "stdout",
     "output_type": "stream",
     "text": [
      "Successfully created Issue \"Issue Title\"\n"
     ]
    }
   ],
   "source": [
    "import json\n",
    "import requests\n",
    "\n",
    "# Authentication for user filing issue (must have read/write access to\n",
    "# repository to add issue to)\n",
    "USERNAME = 'th3y3ti'\n",
    "PASSWORD = ''\n",
    "\n",
    "# The repository to add this issue to\n",
    "REPO_OWNER = 'th3y3ti'\n",
    "REPO_NAME = 'modeans3'\n",
    "\n",
    "def make_github_issue(title, body=None, assignee=None, milestone=None, labels=None):\n",
    "    '''Create an issue on github.com using the given parameters.'''\n",
    "    # Our url to create issues via POST\n",
    "    url = 'https://api.github.com/repos/%s/%s/issues' % (REPO_OWNER, REPO_NAME)\n",
    "    # Create an authenticated session to create the issue\n",
    "    session = requests.Session()\n",
    "    session.auth = (USERNAME, PASSWORD)\n",
    "    # Create our issue\n",
    "    issue = {'title': title,\n",
    "             'body': body}\n",
    "    # Add the issue to our repository\n",
    "    r = session.post(url, json.dumps(issue))\n",
    "    if r.status_code == 201:\n",
    "        print('Successfully created Issue \"%s\"' % title)\n",
    "    else:\n",
    "        print('Could not create Issue \"%s\"' % title)\n",
    "        print('Response:', r.content)\n",
    "\n",
    "make_github_issue('Issue Title', 'Body text', 'assigned_user', 3, ['bug'])"
   ]
  }
 ],
 "metadata": {
  "kernelspec": {
   "display_name": "Python 3",
   "language": "python",
   "name": "python3"
  },
  "language_info": {
   "codemirror_mode": {
    "name": "ipython",
    "version": 3
   },
   "file_extension": ".py",
   "mimetype": "text/x-python",
   "name": "python",
   "nbconvert_exporter": "python",
   "pygments_lexer": "ipython3",
   "version": "3.7.6"
  }
 },
 "nbformat": 4,
 "nbformat_minor": 4
}
